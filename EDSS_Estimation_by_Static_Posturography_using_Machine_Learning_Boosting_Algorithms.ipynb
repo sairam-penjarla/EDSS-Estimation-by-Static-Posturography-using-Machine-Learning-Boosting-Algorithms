{
  "nbformat": 4,
  "nbformat_minor": 0,
  "metadata": {
    "colab": {
      "name": "EDSS Estimation by Static Posturography using Machine Learning Boosting Algorithms",
      "provenance": []
    },
    "kernelspec": {
      "display_name": "Python 3",
      "name": "python3"
    },
    "language_info": {
      "name": "python"
    }
  },
  "cells": [
    {
      "cell_type": "code",
      "metadata": {
        "colab": {
          "base_uri": "https://localhost:8080/"
        },
        "id": "f9bguVFAtDun",
        "outputId": "369fb9a3-3fbc-4521-b934-831014920937"
      },
      "source": [
        "!pip install lifelines"
      ],
      "execution_count": 358,
      "outputs": [
        {
          "output_type": "stream",
          "text": [
            "Requirement already satisfied: lifelines in /usr/local/lib/python3.7/dist-packages (0.26.0)\n",
            "Requirement already satisfied: autograd>=1.3 in /usr/local/lib/python3.7/dist-packages (from lifelines) (1.3)\n",
            "Requirement already satisfied: formulaic<0.3,>=0.2.2 in /usr/local/lib/python3.7/dist-packages (from lifelines) (0.2.3)\n",
            "Requirement already satisfied: scipy>=1.2.0 in /usr/local/lib/python3.7/dist-packages (from lifelines) (1.4.1)\n",
            "Requirement already satisfied: numpy>=1.14.0 in /usr/local/lib/python3.7/dist-packages (from lifelines) (1.19.5)\n",
            "Requirement already satisfied: autograd-gamma>=0.3 in /usr/local/lib/python3.7/dist-packages (from lifelines) (0.5.0)\n",
            "Requirement already satisfied: matplotlib>=3.0 in /usr/local/lib/python3.7/dist-packages (from lifelines) (3.2.2)\n",
            "Requirement already satisfied: pandas>=0.23.0 in /usr/local/lib/python3.7/dist-packages (from lifelines) (1.1.5)\n",
            "Requirement already satisfied: future>=0.15.2 in /usr/local/lib/python3.7/dist-packages (from autograd>=1.3->lifelines) (0.16.0)\n",
            "Requirement already satisfied: interface-meta>=1.2 in /usr/local/lib/python3.7/dist-packages (from formulaic<0.3,>=0.2.2->lifelines) (1.2.3)\n",
            "Requirement already satisfied: wrapt in /usr/local/lib/python3.7/dist-packages (from formulaic<0.3,>=0.2.2->lifelines) (1.12.1)\n",
            "Requirement already satisfied: astor in /usr/local/lib/python3.7/dist-packages (from formulaic<0.3,>=0.2.2->lifelines) (0.8.1)\n",
            "Requirement already satisfied: kiwisolver>=1.0.1 in /usr/local/lib/python3.7/dist-packages (from matplotlib>=3.0->lifelines) (1.3.1)\n",
            "Requirement already satisfied: cycler>=0.10 in /usr/local/lib/python3.7/dist-packages (from matplotlib>=3.0->lifelines) (0.10.0)\n",
            "Requirement already satisfied: pyparsing!=2.0.4,!=2.1.2,!=2.1.6,>=2.0.1 in /usr/local/lib/python3.7/dist-packages (from matplotlib>=3.0->lifelines) (2.4.7)\n",
            "Requirement already satisfied: python-dateutil>=2.1 in /usr/local/lib/python3.7/dist-packages (from matplotlib>=3.0->lifelines) (2.8.1)\n",
            "Requirement already satisfied: pytz>=2017.2 in /usr/local/lib/python3.7/dist-packages (from pandas>=0.23.0->lifelines) (2018.9)\n",
            "Requirement already satisfied: six in /usr/local/lib/python3.7/dist-packages (from cycler>=0.10->matplotlib>=3.0->lifelines) (1.15.0)\n"
          ],
          "name": "stdout"
        }
      ]
    },
    {
      "cell_type": "code",
      "metadata": {
        "id": "Nez1dp2bBApO"
      },
      "source": [
        "import pandas as pd\n",
        "import numpy as np\n",
        "from sklearn.model_selection import train_test_split\n",
        "import matplotlib.pyplot as plt\n",
        "import seaborn as sns\n",
        "from xgboost import XGBClassifier"
      ],
      "execution_count": 359,
      "outputs": []
    },
    {
      "cell_type": "code",
      "metadata": {
        "id": "NWS-WadhVQAQ"
      },
      "source": [
        "df = pd.DataFrame(pd.read_csv(\"/content/S1Dataset.csv\"))"
      ],
      "execution_count": 360,
      "outputs": []
    },
    {
      "cell_type": "code",
      "metadata": {
        "colab": {
          "base_uri": "https://localhost:8080/",
          "height": 224
        },
        "id": "4C5FPdzCXdl1",
        "outputId": "2ecba3dd-e4d6-4b0f-dbff-538576a62354"
      },
      "source": [
        "df.sample(frac=1)\n",
        "df.head()"
      ],
      "execution_count": 361,
      "outputs": [
        {
          "output_type": "execute_result",
          "data": {
            "text/html": [
              "<div>\n",
              "<style scoped>\n",
              "    .dataframe tbody tr th:only-of-type {\n",
              "        vertical-align: middle;\n",
              "    }\n",
              "\n",
              "    .dataframe tbody tr th {\n",
              "        vertical-align: top;\n",
              "    }\n",
              "\n",
              "    .dataframe thead th {\n",
              "        text-align: right;\n",
              "    }\n",
              "</style>\n",
              "<table border=\"1\" class=\"dataframe\">\n",
              "  <thead>\n",
              "    <tr style=\"text-align: right;\">\n",
              "      <th></th>\n",
              "      <th>Age</th>\n",
              "      <th>Gender</th>\n",
              "      <th>EDSS</th>\n",
              "      <th>Pyramidal</th>\n",
              "      <th>Cerebellar</th>\n",
              "      <th>Sensory</th>\n",
              "      <th>DD</th>\n",
              "      <th>ZEllipse_area_open</th>\n",
              "      <th>ZCOP_path_open</th>\n",
              "      <th>ZSway_Rate_open</th>\n",
              "      <th>ZEllipse_area_closed</th>\n",
              "      <th>ZCOP_path_closed</th>\n",
              "      <th>ZSway_Rate_closed</th>\n",
              "      <th>Romberg_Ratio</th>\n",
              "      <th>EDSSsubgroups</th>\n",
              "    </tr>\n",
              "  </thead>\n",
              "  <tbody>\n",
              "    <tr>\n",
              "      <th>0</th>\n",
              "      <td>22</td>\n",
              "      <td>2.0</td>\n",
              "      <td>1.5</td>\n",
              "      <td>3.0</td>\n",
              "      <td>2.0</td>\n",
              "      <td>0.0</td>\n",
              "      <td>2.0</td>\n",
              "      <td>44.97</td>\n",
              "      <td>155.80</td>\n",
              "      <td>7.90</td>\n",
              "      <td>68.07</td>\n",
              "      <td>235.60</td>\n",
              "      <td>11.90</td>\n",
              "      <td>1.51</td>\n",
              "      <td>4.0</td>\n",
              "    </tr>\n",
              "    <tr>\n",
              "      <th>1</th>\n",
              "      <td>58</td>\n",
              "      <td>1.0</td>\n",
              "      <td>2.0</td>\n",
              "      <td>2.0</td>\n",
              "      <td>0.0</td>\n",
              "      <td>1.0</td>\n",
              "      <td>0.0</td>\n",
              "      <td>170.03</td>\n",
              "      <td>254.37</td>\n",
              "      <td>12.97</td>\n",
              "      <td>1243.07</td>\n",
              "      <td>1279.93</td>\n",
              "      <td>65.27</td>\n",
              "      <td>5.03</td>\n",
              "      <td>1.0</td>\n",
              "    </tr>\n",
              "    <tr>\n",
              "      <th>2</th>\n",
              "      <td>34</td>\n",
              "      <td>2.0</td>\n",
              "      <td>2.0</td>\n",
              "      <td>1.0</td>\n",
              "      <td>2.0</td>\n",
              "      <td>1.0</td>\n",
              "      <td>8.0</td>\n",
              "      <td>29.60</td>\n",
              "      <td>106.70</td>\n",
              "      <td>5.43</td>\n",
              "      <td>35.70</td>\n",
              "      <td>124.57</td>\n",
              "      <td>6.37</td>\n",
              "      <td>1.17</td>\n",
              "      <td>2.0</td>\n",
              "    </tr>\n",
              "    <tr>\n",
              "      <th>3</th>\n",
              "      <td>66</td>\n",
              "      <td>2.0</td>\n",
              "      <td>2.0</td>\n",
              "      <td>2.0</td>\n",
              "      <td>0.0</td>\n",
              "      <td>0.0</td>\n",
              "      <td>3.3</td>\n",
              "      <td>8.83</td>\n",
              "      <td>55.13</td>\n",
              "      <td>2.80</td>\n",
              "      <td>8.27</td>\n",
              "      <td>77.90</td>\n",
              "      <td>3.97</td>\n",
              "      <td>1.42</td>\n",
              "      <td>1.0</td>\n",
              "    </tr>\n",
              "    <tr>\n",
              "      <th>4</th>\n",
              "      <td>52</td>\n",
              "      <td>2.0</td>\n",
              "      <td>2.0</td>\n",
              "      <td>2.0</td>\n",
              "      <td>0.0</td>\n",
              "      <td>0.0</td>\n",
              "      <td>0.0</td>\n",
              "      <td>24.80</td>\n",
              "      <td>82.50</td>\n",
              "      <td>4.20</td>\n",
              "      <td>21.10</td>\n",
              "      <td>124.20</td>\n",
              "      <td>6.30</td>\n",
              "      <td>1.50</td>\n",
              "      <td>1.0</td>\n",
              "    </tr>\n",
              "  </tbody>\n",
              "</table>\n",
              "</div>"
            ],
            "text/plain": [
              "   Age  Gender  EDSS  ...  ZSway_Rate_closed  Romberg_Ratio  EDSSsubgroups\n",
              "0   22     2.0   1.5  ...              11.90           1.51            4.0\n",
              "1   58     1.0   2.0  ...              65.27           5.03            1.0\n",
              "2   34     2.0   2.0  ...               6.37           1.17            2.0\n",
              "3   66     2.0   2.0  ...               3.97           1.42            1.0\n",
              "4   52     2.0   2.0  ...               6.30           1.50            1.0\n",
              "\n",
              "[5 rows x 15 columns]"
            ]
          },
          "metadata": {
            "tags": []
          },
          "execution_count": 361
        }
      ]
    },
    {
      "cell_type": "code",
      "metadata": {
        "colab": {
          "base_uri": "https://localhost:8080/"
        },
        "id": "fIr7hOMIaRvz",
        "outputId": "573f8793-01c9-4014-c9f3-001225a75e20"
      },
      "source": [
        "df['Gender'].value_counts()"
      ],
      "execution_count": 362,
      "outputs": [
        {
          "output_type": "execute_result",
          "data": {
            "text/plain": [
              "2.0    211\n",
              "1.0    131\n",
              "Name: Gender, dtype: int64"
            ]
          },
          "metadata": {
            "tags": []
          },
          "execution_count": 362
        }
      ]
    },
    {
      "cell_type": "code",
      "metadata": {
        "colab": {
          "base_uri": "https://localhost:8080/"
        },
        "id": "wvKTN_68BGE-",
        "outputId": "8e07007c-31a0-466c-e0f8-f95b13d0e741"
      },
      "source": [
        "df.isna().sum()"
      ],
      "execution_count": 363,
      "outputs": [
        {
          "output_type": "execute_result",
          "data": {
            "text/plain": [
              "Age                      0\n",
              "Gender                   0\n",
              "EDSS                     0\n",
              "Pyramidal                0\n",
              "Cerebellar               0\n",
              "Sensory                  0\n",
              "DD                      12\n",
              "ZEllipse_area_open       0\n",
              "ZCOP_path_open           0\n",
              "ZSway_Rate_open          2\n",
              "ZEllipse_area_closed     0\n",
              "ZCOP_path_closed         0\n",
              "ZSway_Rate_closed        0\n",
              "Romberg_Ratio            2\n",
              "EDSSsubgroups            0\n",
              "dtype: int64"
            ]
          },
          "metadata": {
            "tags": []
          },
          "execution_count": 363
        }
      ]
    },
    {
      "cell_type": "code",
      "metadata": {
        "colab": {
          "base_uri": "https://localhost:8080/"
        },
        "id": "d2boAlx8GJ4N",
        "outputId": "c8d0fe12-b147-4464-90a1-9837c1046ec6"
      },
      "source": [
        "df = df.dropna()\n",
        "df.isna().sum()"
      ],
      "execution_count": 364,
      "outputs": [
        {
          "output_type": "execute_result",
          "data": {
            "text/plain": [
              "Age                     0\n",
              "Gender                  0\n",
              "EDSS                    0\n",
              "Pyramidal               0\n",
              "Cerebellar              0\n",
              "Sensory                 0\n",
              "DD                      0\n",
              "ZEllipse_area_open      0\n",
              "ZCOP_path_open          0\n",
              "ZSway_Rate_open         0\n",
              "ZEllipse_area_closed    0\n",
              "ZCOP_path_closed        0\n",
              "ZSway_Rate_closed       0\n",
              "Romberg_Ratio           0\n",
              "EDSSsubgroups           0\n",
              "dtype: int64"
            ]
          },
          "metadata": {
            "tags": []
          },
          "execution_count": 364
        }
      ]
    },
    {
      "cell_type": "code",
      "metadata": {
        "colab": {
          "base_uri": "https://localhost:8080/",
          "height": 298
        },
        "id": "JsMs1Rvma85W",
        "outputId": "48e9cb94-f8ad-418b-f7cc-6e99b7cd4760"
      },
      "source": [
        "from lifelines import KaplanMeierFitter\n",
        "\n",
        "kmf_male = KaplanMeierFitter() \n",
        "kmf_female = KaplanMeierFitter() \n",
        "female = df.query(\"Gender == 1\")\n",
        "male = df.query(\"Gender == 2\")\n",
        "\n",
        "kmf_female.fit(female['DD'], event_observed = female['EDSS'], label = 'Female')\n",
        "kmf_male.fit(male['DD'], event_observed = male['EDSS'], label = 'Male' ) \n",
        "\n",
        "\n",
        "kmf_female.plot()\n",
        "kmf_male.plot()"
      ],
      "execution_count": 365,
      "outputs": [
        {
          "output_type": "execute_result",
          "data": {
            "text/plain": [
              "<matplotlib.axes._subplots.AxesSubplot at 0x7f292181fdd0>"
            ]
          },
          "metadata": {
            "tags": []
          },
          "execution_count": 365
        },
        {
          "output_type": "display_data",
          "data": {
            "image/png": "[encoded data removed]",
            "text/plain": [
              "<Figure size 432x288 with 1 Axes>"
            ]
          },
          "metadata": {
            "tags": []
          }
        }
      ]
    },
    {
      "cell_type": "code",
      "metadata": {
        "id": "aPKCIr_2s4vK"
      },
      "source": [
        "df = df.drop(['Age','DD'],axis =1 )"
      ],
      "execution_count": 366,
      "outputs": []
    },
    {
      "cell_type": "code",
      "metadata": {
        "colab": {
          "base_uri": "https://localhost:8080/"
        },
        "id": "98ZcThpxOLJU",
        "outputId": "c46f40bd-23dc-4b25-9bc4-5ce1ba23c019"
      },
      "source": [
        "df.columns"
      ],
      "execution_count": 367,
      "outputs": [
        {
          "output_type": "execute_result",
          "data": {
            "text/plain": [
              "Index(['Gender', 'EDSS', 'Pyramidal', 'Cerebellar', 'Sensory',\n",
              "       'ZEllipse_area_open', 'ZCOP_path_open', 'ZSway_Rate_open',\n",
              "       'ZEllipse_area_closed', 'ZCOP_path_closed', 'ZSway_Rate_closed',\n",
              "       'Romberg_Ratio', 'EDSSsubgroups'],\n",
              "      dtype='object')"
            ]
          },
          "metadata": {
            "tags": []
          },
          "execution_count": 367
        }
      ]
    },
    {
      "cell_type": "code",
      "metadata": {
        "id": "d3waGGOzPZnk"
      },
      "source": [
        "coluns_to_remove_outliers = ['Pyramidal','ZEllipse_area_open','ZCOP_path_open','ZSway_Rate_open','ZEllipse_area_closed', 'ZCOP_path_closed', 'ZSway_Rate_closed',\n",
        "       'Romberg_Ratio',]"
      ],
      "execution_count": 368,
      "outputs": []
    },
    {
      "cell_type": "code",
      "metadata": {
        "colab": {
          "base_uri": "https://localhost:8080/",
          "height": 1000
        },
        "id": "9nZuykeXOAD-",
        "outputId": "94f73705-ec78-4ed4-cade-e0a21ece49c5"
      },
      "source": [
        "fig, axes = plt.subplots(4, 3, figsize=(18, 10))\n",
        "\n",
        "fig.suptitle('Outliers')\n",
        "  \n",
        "  \n",
        "\n",
        "sns.boxplot( df['EDSS'],ax=axes[0, 0])\n",
        "sns.boxplot( df['Pyramidal'],ax=axes[0, 1])\n",
        "sns.boxplot( df['Cerebellar'],ax=axes[0, 2])\n",
        "sns.boxplot( df['Sensory'],ax=axes[1, 0])\n",
        "sns.boxplot( df['ZEllipse_area_open'],ax=axes[1, 1])\n",
        "sns.boxplot( df['ZCOP_path_open'],ax=axes[1, 2])\n",
        "sns.boxplot( df['ZSway_Rate_open'],ax=axes[2, 0])\n",
        "sns.boxplot( df['ZEllipse_area_closed'],ax=axes[2, 1])\n",
        "sns.boxplot( df['ZCOP_path_closed'],ax=axes[2, 2])\n",
        "sns.boxplot( df['ZSway_Rate_closed'],ax=axes[3, 0])\n",
        "sns.boxplot( df['Romberg_Ratio'],ax=axes[3, 1])\n",
        "sns.boxplot( df['EDSSsubgroups'],ax=axes[3, 2])"
      ],
      "execution_count": 369,
      "outputs": [
        {
          "output_type": "stream",
          "text": [
            "/usr/local/lib/python3.7/dist-packages/seaborn/_decorators.py:43: FutureWarning: Pass the following variable as a keyword arg: x. From version 0.12, the only valid positional argument will be `data`, and passing other arguments without an explicit keyword will result in an error or misinterpretation.\n",
            "  FutureWarning\n",
            "/usr/local/lib/python3.7/dist-packages/seaborn/_decorators.py:43: FutureWarning: Pass the following variable as a keyword arg: x. From version 0.12, the only valid positional argument will be `data`, and passing other arguments without an explicit keyword will result in an error or misinterpretation.\n",
            "  FutureWarning\n",
            "/usr/local/lib/python3.7/dist-packages/seaborn/_decorators.py:43: FutureWarning: Pass the following variable as a keyword arg: x. From version 0.12, the only valid positional argument will be `data`, and passing other arguments without an explicit keyword will result in an error or misinterpretation.\n",
            "  FutureWarning\n",
            "/usr/local/lib/python3.7/dist-packages/seaborn/_decorators.py:43: FutureWarning: Pass the following variable as a keyword arg: x. From version 0.12, the only valid positional argument will be `data`, and passing other arguments without an explicit keyword will result in an error or misinterpretation.\n",
            "  FutureWarning\n",
            "/usr/local/lib/python3.7/dist-packages/seaborn/_decorators.py:43: FutureWarning: Pass the following variable as a keyword arg: x. From version 0.12, the only valid positional argument will be `data`, and passing other arguments without an explicit keyword will result in an error or misinterpretation.\n",
            "  FutureWarning\n",
            "/usr/local/lib/python3.7/dist-packages/seaborn/_decorators.py:43: FutureWarning: Pass the following variable as a keyword arg: x. From version 0.12, the only valid positional argument will be `data`, and passing other arguments without an explicit keyword will result in an error or misinterpretation.\n",
            "  FutureWarning\n",
            "/usr/local/lib/python3.7/dist-packages/seaborn/_decorators.py:43: FutureWarning: Pass the following variable as a keyword arg: x. From version 0.12, the only valid positional argument will be `data`, and passing other arguments without an explicit keyword will result in an error or misinterpretation.\n",
            "  FutureWarning\n",
            "/usr/local/lib/python3.7/dist-packages/seaborn/_decorators.py:43: FutureWarning: Pass the following variable as a keyword arg: x. From version 0.12, the only valid positional argument will be `data`, and passing other arguments without an explicit keyword will result in an error or misinterpretation.\n",
            "  FutureWarning\n",
            "/usr/local/lib/python3.7/dist-packages/seaborn/_decorators.py:43: FutureWarning: Pass the following variable as a keyword arg: x. From version 0.12, the only valid positional argument will be `data`, and passing other arguments without an explicit keyword will result in an error or misinterpretation.\n",
            "  FutureWarning\n",
            "/usr/local/lib/python3.7/dist-packages/seaborn/_decorators.py:43: FutureWarning: Pass the following variable as a keyword arg: x. From version 0.12, the only valid positional argument will be `data`, and passing other arguments without an explicit keyword will result in an error or misinterpretation.\n",
            "  FutureWarning\n",
            "/usr/local/lib/python3.7/dist-packages/seaborn/_decorators.py:43: FutureWarning: Pass the following variable as a keyword arg: x. From version 0.12, the only valid positional argument will be `data`, and passing other arguments without an explicit keyword will result in an error or misinterpretation.\n",
            "  FutureWarning\n",
            "/usr/local/lib/python3.7/dist-packages/seaborn/_decorators.py:43: FutureWarning: Pass the following variable as a keyword arg: x. From version 0.12, the only valid positional argument will be `data`, and passing other arguments without an explicit keyword will result in an error or misinterpretation.\n",
            "  FutureWarning\n"
          ],
          "name": "stderr"
        },
        {
          "output_type": "execute_result",
          "data": {
            "text/plain": [
              "<matplotlib.axes._subplots.AxesSubplot at 0x7f292140bf50>"
            ]
          },
          "metadata": {
            "tags": []
          },
          "execution_count": 369
        },
        {
          "output_type": "display_data",
          "data": {
            "image/png": "[encoded data removed]",
            "text/plain": [
              "<Figure size 1296x720 with 12 Axes>"
            ]
          },
          "metadata": {
            "tags": []
          }
        }
      ]
    },
    {
      "cell_type": "code",
      "metadata": {
        "id": "8-purD9DVZ1l"
      },
      "source": [
        "new_df = df.copy()"
      ],
      "execution_count": 370,
      "outputs": []
    },
    {
      "cell_type": "code",
      "metadata": {
        "id": "bAEUWd0gUqEV"
      },
      "source": [
        "index = new_df[(new_df['ZEllipse_area_open'] >= 250)].index\n",
        "new_df.drop(index, inplace=True)"
      ],
      "execution_count": 371,
      "outputs": []
    },
    {
      "cell_type": "code",
      "metadata": {
        "id": "5hgXAxZ8VcD6"
      },
      "source": [
        "index = new_df[(new_df['ZCOP_path_open'] >= 110)].index\n",
        "new_df.drop(index, inplace=True)"
      ],
      "execution_count": 372,
      "outputs": []
    },
    {
      "cell_type": "code",
      "metadata": {
        "id": "WAqEM6pzWfgp"
      },
      "source": [
        "index = new_df[(new_df['Romberg_Ratio'] >= 3.2)].index\n",
        "new_df.drop(index, inplace=True)"
      ],
      "execution_count": 373,
      "outputs": []
    },
    {
      "cell_type": "code",
      "metadata": {
        "colab": {
          "base_uri": "https://localhost:8080/",
          "height": 1000
        },
        "id": "qcSnLkaXUZ3O",
        "outputId": "29e32ab9-beec-4dfd-9234-f838448290ca"
      },
      "source": [
        "fig, axes = plt.subplots(4, 3, figsize=(18, 10))\n",
        "\n",
        "fig.suptitle('Outliers')\n",
        "  \n",
        "  \n",
        "\n",
        "sns.boxplot( new_df['EDSS'],ax=axes[0, 0])\n",
        "sns.boxplot( new_df['Pyramidal'],ax=axes[0, 1])\n",
        "sns.boxplot( new_df['Cerebellar'],ax=axes[0, 2])\n",
        "sns.boxplot( new_df['Sensory'],ax=axes[1, 0])\n",
        "sns.boxplot( new_df['ZEllipse_area_open'],ax=axes[1, 1])\n",
        "sns.boxplot( new_df['ZCOP_path_open'],ax=axes[1, 2])\n",
        "sns.boxplot( new_df['ZSway_Rate_open'],ax=axes[2, 0])\n",
        "sns.boxplot( new_df['ZEllipse_area_closed'],ax=axes[2, 1])\n",
        "sns.boxplot( new_df['ZCOP_path_closed'],ax=axes[2, 2])\n",
        "sns.boxplot( new_df['ZSway_Rate_closed'],ax=axes[3, 0])\n",
        "sns.boxplot( new_df['Romberg_Ratio'],ax=axes[3, 1])\n",
        "sns.boxplot( new_df['EDSSsubgroups'],ax=axes[3, 2])"
      ],
      "execution_count": 374,
      "outputs": [
        {
          "output_type": "stream",
          "text": [
            "/usr/local/lib/python3.7/dist-packages/seaborn/_decorators.py:43: FutureWarning: Pass the following variable as a keyword arg: x. From version 0.12, the only valid positional argument will be `data`, and passing other arguments without an explicit keyword will result in an error or misinterpretation.\n",
            "  FutureWarning\n",
            "/usr/local/lib/python3.7/dist-packages/seaborn/_decorators.py:43: FutureWarning: Pass the following variable as a keyword arg: x. From version 0.12, the only valid positional argument will be `data`, and passing other arguments without an explicit keyword will result in an error or misinterpretation.\n",
            "  FutureWarning\n",
            "/usr/local/lib/python3.7/dist-packages/seaborn/_decorators.py:43: FutureWarning: Pass the following variable as a keyword arg: x. From version 0.12, the only valid positional argument will be `data`, and passing other arguments without an explicit keyword will result in an error or misinterpretation.\n",
            "  FutureWarning\n",
            "/usr/local/lib/python3.7/dist-packages/seaborn/_decorators.py:43: FutureWarning: Pass the following variable as a keyword arg: x. From version 0.12, the only valid positional argument will be `data`, and passing other arguments without an explicit keyword will result in an error or misinterpretation.\n",
            "  FutureWarning\n",
            "/usr/local/lib/python3.7/dist-packages/seaborn/_decorators.py:43: FutureWarning: Pass the following variable as a keyword arg: x. From version 0.12, the only valid positional argument will be `data`, and passing other arguments without an explicit keyword will result in an error or misinterpretation.\n",
            "  FutureWarning\n",
            "/usr/local/lib/python3.7/dist-packages/seaborn/_decorators.py:43: FutureWarning: Pass the following variable as a keyword arg: x. From version 0.12, the only valid positional argument will be `data`, and passing other arguments without an explicit keyword will result in an error or misinterpretation.\n",
            "  FutureWarning\n",
            "/usr/local/lib/python3.7/dist-packages/seaborn/_decorators.py:43: FutureWarning: Pass the following variable as a keyword arg: x. From version 0.12, the only valid positional argument will be `data`, and passing other arguments without an explicit keyword will result in an error or misinterpretation.\n",
            "  FutureWarning\n",
            "/usr/local/lib/python3.7/dist-packages/seaborn/_decorators.py:43: FutureWarning: Pass the following variable as a keyword arg: x. From version 0.12, the only valid positional argument will be `data`, and passing other arguments without an explicit keyword will result in an error or misinterpretation.\n",
            "  FutureWarning\n",
            "/usr/local/lib/python3.7/dist-packages/seaborn/_decorators.py:43: FutureWarning: Pass the following variable as a keyword arg: x. From version 0.12, the only valid positional argument will be `data`, and passing other arguments without an explicit keyword will result in an error or misinterpretation.\n",
            "  FutureWarning\n",
            "/usr/local/lib/python3.7/dist-packages/seaborn/_decorators.py:43: FutureWarning: Pass the following variable as a keyword arg: x. From version 0.12, the only valid positional argument will be `data`, and passing other arguments without an explicit keyword will result in an error or misinterpretation.\n",
            "  FutureWarning\n",
            "/usr/local/lib/python3.7/dist-packages/seaborn/_decorators.py:43: FutureWarning: Pass the following variable as a keyword arg: x. From version 0.12, the only valid positional argument will be `data`, and passing other arguments without an explicit keyword will result in an error or misinterpretation.\n",
            "  FutureWarning\n",
            "/usr/local/lib/python3.7/dist-packages/seaborn/_decorators.py:43: FutureWarning: Pass the following variable as a keyword arg: x. From version 0.12, the only valid positional argument will be `data`, and passing other arguments without an explicit keyword will result in an error or misinterpretation.\n",
            "  FutureWarning\n"
          ],
          "name": "stderr"
        },
        {
          "output_type": "execute_result",
          "data": {
            "text/plain": [
              "<matplotlib.axes._subplots.AxesSubplot at 0x7f29222cd150>"
            ]
          },
          "metadata": {
            "tags": []
          },
          "execution_count": 374
        },
        {
          "output_type": "display_data",
          "data": {
            "image/png": "[encoded data removed]",
            "text/plain": [
              "<Figure size 1296x720 with 12 Axes>"
            ]
          },
          "metadata": {
            "tags": []
          }
        }
      ]
    },
    {
      "cell_type": "code",
      "metadata": {
        "id": "V5UxTcj1E-BV"
      },
      "source": [
        "target = pd.get_dummies(df['EDSS'])"
      ],
      "execution_count": 375,
      "outputs": []
    },
    {
      "cell_type": "code",
      "metadata": {
        "colab": {
          "base_uri": "https://localhost:8080/",
          "height": 439
        },
        "id": "1eApFf0LF4se",
        "outputId": "ff7f0c48-ef22-4864-f6fa-981406548d57"
      },
      "source": [
        "data = new_df[[              'Gender',            'Pyramidal',           'Cerebellar',\n",
        "                    'Sensory',   'ZEllipse_area_open',       'ZCOP_path_open',\n",
        "            'ZSway_Rate_open', 'ZEllipse_area_closed',     'ZCOP_path_closed',\n",
        "          'ZSway_Rate_closed',        'Romberg_Ratio',        'EDSSsubgroups','EDSS']]\n",
        "data"
      ],
      "execution_count": 376,
      "outputs": [
        {
          "output_type": "execute_result",
          "data": {
            "text/html": [
              "<div>\n",
              "<style scoped>\n",
              "    .dataframe tbody tr th:only-of-type {\n",
              "        vertical-align: middle;\n",
              "    }\n",
              "\n",
              "    .dataframe tbody tr th {\n",
              "        vertical-align: top;\n",
              "    }\n",
              "\n",
              "    .dataframe thead th {\n",
              "        text-align: right;\n",
              "    }\n",
              "</style>\n",
              "<table border=\"1\" class=\"dataframe\">\n",
              "  <thead>\n",
              "    <tr style=\"text-align: right;\">\n",
              "      <th></th>\n",
              "      <th>Gender</th>\n",
              "      <th>Pyramidal</th>\n",
              "      <th>Cerebellar</th>\n",
              "      <th>Sensory</th>\n",
              "      <th>ZEllipse_area_open</th>\n",
              "      <th>ZCOP_path_open</th>\n",
              "      <th>ZSway_Rate_open</th>\n",
              "      <th>ZEllipse_area_closed</th>\n",
              "      <th>ZCOP_path_closed</th>\n",
              "      <th>ZSway_Rate_closed</th>\n",
              "      <th>Romberg_Ratio</th>\n",
              "      <th>EDSSsubgroups</th>\n",
              "      <th>EDSS</th>\n",
              "    </tr>\n",
              "  </thead>\n",
              "  <tbody>\n",
              "    <tr>\n",
              "      <th>2</th>\n",
              "      <td>2.0</td>\n",
              "      <td>1.0</td>\n",
              "      <td>2.0</td>\n",
              "      <td>1.0</td>\n",
              "      <td>29.60</td>\n",
              "      <td>106.70</td>\n",
              "      <td>5.43</td>\n",
              "      <td>35.70</td>\n",
              "      <td>124.57</td>\n",
              "      <td>6.37</td>\n",
              "      <td>1.17</td>\n",
              "      <td>2.0</td>\n",
              "      <td>2.0</td>\n",
              "    </tr>\n",
              "    <tr>\n",
              "      <th>3</th>\n",
              "      <td>2.0</td>\n",
              "      <td>2.0</td>\n",
              "      <td>0.0</td>\n",
              "      <td>0.0</td>\n",
              "      <td>8.83</td>\n",
              "      <td>55.13</td>\n",
              "      <td>2.80</td>\n",
              "      <td>8.27</td>\n",
              "      <td>77.90</td>\n",
              "      <td>3.97</td>\n",
              "      <td>1.42</td>\n",
              "      <td>1.0</td>\n",
              "      <td>2.0</td>\n",
              "    </tr>\n",
              "    <tr>\n",
              "      <th>4</th>\n",
              "      <td>2.0</td>\n",
              "      <td>2.0</td>\n",
              "      <td>0.0</td>\n",
              "      <td>0.0</td>\n",
              "      <td>24.80</td>\n",
              "      <td>82.50</td>\n",
              "      <td>4.20</td>\n",
              "      <td>21.10</td>\n",
              "      <td>124.20</td>\n",
              "      <td>6.30</td>\n",
              "      <td>1.50</td>\n",
              "      <td>1.0</td>\n",
              "      <td>2.0</td>\n",
              "    </tr>\n",
              "    <tr>\n",
              "      <th>5</th>\n",
              "      <td>1.0</td>\n",
              "      <td>2.0</td>\n",
              "      <td>0.0</td>\n",
              "      <td>0.0</td>\n",
              "      <td>24.80</td>\n",
              "      <td>82.50</td>\n",
              "      <td>4.20</td>\n",
              "      <td>21.10</td>\n",
              "      <td>124.20</td>\n",
              "      <td>6.30</td>\n",
              "      <td>1.50</td>\n",
              "      <td>1.0</td>\n",
              "      <td>2.0</td>\n",
              "    </tr>\n",
              "    <tr>\n",
              "      <th>6</th>\n",
              "      <td>2.0</td>\n",
              "      <td>2.0</td>\n",
              "      <td>0.0</td>\n",
              "      <td>0.0</td>\n",
              "      <td>36.30</td>\n",
              "      <td>90.50</td>\n",
              "      <td>4.60</td>\n",
              "      <td>54.50</td>\n",
              "      <td>136.30</td>\n",
              "      <td>6.90</td>\n",
              "      <td>1.50</td>\n",
              "      <td>1.0</td>\n",
              "      <td>2.0</td>\n",
              "    </tr>\n",
              "    <tr>\n",
              "      <th>...</th>\n",
              "      <td>...</td>\n",
              "      <td>...</td>\n",
              "      <td>...</td>\n",
              "      <td>...</td>\n",
              "      <td>...</td>\n",
              "      <td>...</td>\n",
              "      <td>...</td>\n",
              "      <td>...</td>\n",
              "      <td>...</td>\n",
              "      <td>...</td>\n",
              "      <td>...</td>\n",
              "      <td>...</td>\n",
              "      <td>...</td>\n",
              "    </tr>\n",
              "    <tr>\n",
              "      <th>257</th>\n",
              "      <td>1.0</td>\n",
              "      <td>2.0</td>\n",
              "      <td>2.0</td>\n",
              "      <td>2.0</td>\n",
              "      <td>18.87</td>\n",
              "      <td>109.90</td>\n",
              "      <td>5.57</td>\n",
              "      <td>35.57</td>\n",
              "      <td>189.07</td>\n",
              "      <td>9.50</td>\n",
              "      <td>1.71</td>\n",
              "      <td>6.0</td>\n",
              "      <td>4.5</td>\n",
              "    </tr>\n",
              "    <tr>\n",
              "      <th>273</th>\n",
              "      <td>1.0</td>\n",
              "      <td>3.0</td>\n",
              "      <td>2.0</td>\n",
              "      <td>2.0</td>\n",
              "      <td>30.50</td>\n",
              "      <td>71.40</td>\n",
              "      <td>3.60</td>\n",
              "      <td>195.40</td>\n",
              "      <td>225.40</td>\n",
              "      <td>11.40</td>\n",
              "      <td>3.17</td>\n",
              "      <td>6.0</td>\n",
              "      <td>5.0</td>\n",
              "    </tr>\n",
              "    <tr>\n",
              "      <th>285</th>\n",
              "      <td>2.0</td>\n",
              "      <td>4.0</td>\n",
              "      <td>2.0</td>\n",
              "      <td>1.0</td>\n",
              "      <td>16.00</td>\n",
              "      <td>60.60</td>\n",
              "      <td>3.10</td>\n",
              "      <td>30.80</td>\n",
              "      <td>96.00</td>\n",
              "      <td>4.90</td>\n",
              "      <td>1.58</td>\n",
              "      <td>4.0</td>\n",
              "      <td>5.5</td>\n",
              "    </tr>\n",
              "    <tr>\n",
              "      <th>286</th>\n",
              "      <td>1.0</td>\n",
              "      <td>2.0</td>\n",
              "      <td>2.0</td>\n",
              "      <td>2.0</td>\n",
              "      <td>67.00</td>\n",
              "      <td>107.90</td>\n",
              "      <td>5.40</td>\n",
              "      <td>378.00</td>\n",
              "      <td>336.10</td>\n",
              "      <td>17.10</td>\n",
              "      <td>3.17</td>\n",
              "      <td>6.0</td>\n",
              "      <td>5.5</td>\n",
              "    </tr>\n",
              "    <tr>\n",
              "      <th>306</th>\n",
              "      <td>2.0</td>\n",
              "      <td>3.0</td>\n",
              "      <td>0.0</td>\n",
              "      <td>2.0</td>\n",
              "      <td>50.60</td>\n",
              "      <td>90.40</td>\n",
              "      <td>4.60</td>\n",
              "      <td>176.93</td>\n",
              "      <td>217.73</td>\n",
              "      <td>11.10</td>\n",
              "      <td>2.41</td>\n",
              "      <td>5.0</td>\n",
              "      <td>6.0</td>\n",
              "    </tr>\n",
              "  </tbody>\n",
              "</table>\n",
              "<p>62 rows × 13 columns</p>\n",
              "</div>"
            ],
            "text/plain": [
              "     Gender  Pyramidal  Cerebellar  ...  Romberg_Ratio  EDSSsubgroups  EDSS\n",
              "2       2.0        1.0         2.0  ...           1.17            2.0   2.0\n",
              "3       2.0        2.0         0.0  ...           1.42            1.0   2.0\n",
              "4       2.0        2.0         0.0  ...           1.50            1.0   2.0\n",
              "5       1.0        2.0         0.0  ...           1.50            1.0   2.0\n",
              "6       2.0        2.0         0.0  ...           1.50            1.0   2.0\n",
              "..      ...        ...         ...  ...            ...            ...   ...\n",
              "257     1.0        2.0         2.0  ...           1.71            6.0   4.5\n",
              "273     1.0        3.0         2.0  ...           3.17            6.0   5.0\n",
              "285     2.0        4.0         2.0  ...           1.58            4.0   5.5\n",
              "286     1.0        2.0         2.0  ...           3.17            6.0   5.5\n",
              "306     2.0        3.0         0.0  ...           2.41            5.0   6.0\n",
              "\n",
              "[62 rows x 13 columns]"
            ]
          },
          "metadata": {
            "tags": []
          },
          "execution_count": 376
        }
      ]
    },
    {
      "cell_type": "code",
      "metadata": {
        "colab": {
          "base_uri": "https://localhost:8080/"
        },
        "id": "5rbgTvQkBL0c",
        "outputId": "ef786dcd-853d-4c90-ae33-25d685d91648"
      },
      "source": [
        "data.columns"
      ],
      "execution_count": 377,
      "outputs": [
        {
          "output_type": "execute_result",
          "data": {
            "text/plain": [
              "Index(['Gender', 'Pyramidal', 'Cerebellar', 'Sensory', 'ZEllipse_area_open',\n",
              "       'ZCOP_path_open', 'ZSway_Rate_open', 'ZEllipse_area_closed',\n",
              "       'ZCOP_path_closed', 'ZSway_Rate_closed', 'Romberg_Ratio',\n",
              "       'EDSSsubgroups', 'EDSS'],\n",
              "      dtype='object')"
            ]
          },
          "metadata": {
            "tags": []
          },
          "execution_count": 377
        }
      ]
    },
    {
      "cell_type": "code",
      "metadata": {
        "id": "aM-qLxwWO0Vt"
      },
      "source": [
        "x=data.iloc[:,4:10]\n",
        "y = data.iloc[:,-1:]"
      ],
      "execution_count": 378,
      "outputs": []
    },
    {
      "cell_type": "code",
      "metadata": {
        "colab": {
          "base_uri": "https://localhost:8080/",
          "height": 419
        },
        "id": "3ZQasoqJHVNw",
        "outputId": "d324ba4a-8b96-4a63-bb99-ef33bb6835de"
      },
      "source": [
        "data.iloc[:,4:10]"
      ],
      "execution_count": 379,
      "outputs": [
        {
          "output_type": "execute_result",
          "data": {
            "text/html": [
              "<div>\n",
              "<style scoped>\n",
              "    .dataframe tbody tr th:only-of-type {\n",
              "        vertical-align: middle;\n",
              "    }\n",
              "\n",
              "    .dataframe tbody tr th {\n",
              "        vertical-align: top;\n",
              "    }\n",
              "\n",
              "    .dataframe thead th {\n",
              "        text-align: right;\n",
              "    }\n",
              "</style>\n",
              "<table border=\"1\" class=\"dataframe\">\n",
              "  <thead>\n",
              "    <tr style=\"text-align: right;\">\n",
              "      <th></th>\n",
              "      <th>ZEllipse_area_open</th>\n",
              "      <th>ZCOP_path_open</th>\n",
              "      <th>ZSway_Rate_open</th>\n",
              "      <th>ZEllipse_area_closed</th>\n",
              "      <th>ZCOP_path_closed</th>\n",
              "      <th>ZSway_Rate_closed</th>\n",
              "    </tr>\n",
              "  </thead>\n",
              "  <tbody>\n",
              "    <tr>\n",
              "      <th>2</th>\n",
              "      <td>29.60</td>\n",
              "      <td>106.70</td>\n",
              "      <td>5.43</td>\n",
              "      <td>35.70</td>\n",
              "      <td>124.57</td>\n",
              "      <td>6.37</td>\n",
              "    </tr>\n",
              "    <tr>\n",
              "      <th>3</th>\n",
              "      <td>8.83</td>\n",
              "      <td>55.13</td>\n",
              "      <td>2.80</td>\n",
              "      <td>8.27</td>\n",
              "      <td>77.90</td>\n",
              "      <td>3.97</td>\n",
              "    </tr>\n",
              "    <tr>\n",
              "      <th>4</th>\n",
              "      <td>24.80</td>\n",
              "      <td>82.50</td>\n",
              "      <td>4.20</td>\n",
              "      <td>21.10</td>\n",
              "      <td>124.20</td>\n",
              "      <td>6.30</td>\n",
              "    </tr>\n",
              "    <tr>\n",
              "      <th>5</th>\n",
              "      <td>24.80</td>\n",
              "      <td>82.50</td>\n",
              "      <td>4.20</td>\n",
              "      <td>21.10</td>\n",
              "      <td>124.20</td>\n",
              "      <td>6.30</td>\n",
              "    </tr>\n",
              "    <tr>\n",
              "      <th>6</th>\n",
              "      <td>36.30</td>\n",
              "      <td>90.50</td>\n",
              "      <td>4.60</td>\n",
              "      <td>54.50</td>\n",
              "      <td>136.30</td>\n",
              "      <td>6.90</td>\n",
              "    </tr>\n",
              "    <tr>\n",
              "      <th>...</th>\n",
              "      <td>...</td>\n",
              "      <td>...</td>\n",
              "      <td>...</td>\n",
              "      <td>...</td>\n",
              "      <td>...</td>\n",
              "      <td>...</td>\n",
              "    </tr>\n",
              "    <tr>\n",
              "      <th>257</th>\n",
              "      <td>18.87</td>\n",
              "      <td>109.90</td>\n",
              "      <td>5.57</td>\n",
              "      <td>35.57</td>\n",
              "      <td>189.07</td>\n",
              "      <td>9.50</td>\n",
              "    </tr>\n",
              "    <tr>\n",
              "      <th>273</th>\n",
              "      <td>30.50</td>\n",
              "      <td>71.40</td>\n",
              "      <td>3.60</td>\n",
              "      <td>195.40</td>\n",
              "      <td>225.40</td>\n",
              "      <td>11.40</td>\n",
              "    </tr>\n",
              "    <tr>\n",
              "      <th>285</th>\n",
              "      <td>16.00</td>\n",
              "      <td>60.60</td>\n",
              "      <td>3.10</td>\n",
              "      <td>30.80</td>\n",
              "      <td>96.00</td>\n",
              "      <td>4.90</td>\n",
              "    </tr>\n",
              "    <tr>\n",
              "      <th>286</th>\n",
              "      <td>67.00</td>\n",
              "      <td>107.90</td>\n",
              "      <td>5.40</td>\n",
              "      <td>378.00</td>\n",
              "      <td>336.10</td>\n",
              "      <td>17.10</td>\n",
              "    </tr>\n",
              "    <tr>\n",
              "      <th>306</th>\n",
              "      <td>50.60</td>\n",
              "      <td>90.40</td>\n",
              "      <td>4.60</td>\n",
              "      <td>176.93</td>\n",
              "      <td>217.73</td>\n",
              "      <td>11.10</td>\n",
              "    </tr>\n",
              "  </tbody>\n",
              "</table>\n",
              "<p>62 rows × 6 columns</p>\n",
              "</div>"
            ],
            "text/plain": [
              "     ZEllipse_area_open  ZCOP_path_open  ...  ZCOP_path_closed  ZSway_Rate_closed\n",
              "2                 29.60          106.70  ...            124.57               6.37\n",
              "3                  8.83           55.13  ...             77.90               3.97\n",
              "4                 24.80           82.50  ...            124.20               6.30\n",
              "5                 24.80           82.50  ...            124.20               6.30\n",
              "6                 36.30           90.50  ...            136.30               6.90\n",
              "..                  ...             ...  ...               ...                ...\n",
              "257               18.87          109.90  ...            189.07               9.50\n",
              "273               30.50           71.40  ...            225.40              11.40\n",
              "285               16.00           60.60  ...             96.00               4.90\n",
              "286               67.00          107.90  ...            336.10              17.10\n",
              "306               50.60           90.40  ...            217.73              11.10\n",
              "\n",
              "[62 rows x 6 columns]"
            ]
          },
          "metadata": {
            "tags": []
          },
          "execution_count": 379
        }
      ]
    },
    {
      "cell_type": "code",
      "metadata": {
        "colab": {
          "base_uri": "https://localhost:8080/"
        },
        "id": "hwW3696FHVcZ",
        "outputId": "247eaf20-2590-452d-b9c6-205e1ae35673"
      },
      "source": [
        "y.value_counts()"
      ],
      "execution_count": 380,
      "outputs": [
        {
          "output_type": "execute_result",
          "data": {
            "text/plain": [
              "EDSS\n",
              "2.0     25\n",
              "2.5     17\n",
              "4.0      7\n",
              "3.0      6\n",
              "5.5      2\n",
              "4.5      2\n",
              "6.0      1\n",
              "5.0      1\n",
              "3.5      1\n",
              "dtype: int64"
            ]
          },
          "metadata": {
            "tags": []
          },
          "execution_count": 380
        }
      ]
    },
    {
      "cell_type": "code",
      "metadata": {
        "colab": {
          "base_uri": "https://localhost:8080/"
        },
        "id": "q7eSv_1IeiK7",
        "outputId": "6abadfa1-141d-4b91-d3ae-0005e2abdf5d"
      },
      "source": [
        "from imblearn.over_sampling import RandomOverSampler \n",
        "oversample = RandomOverSampler()\n",
        "x_smt,y_smt = oversample.fit_resample(x,y)\n",
        "pd.DataFrame(y_smt).value_counts()"
      ],
      "execution_count": 381,
      "outputs": [
        {
          "output_type": "stream",
          "text": [
            "/usr/local/lib/python3.7/dist-packages/imblearn/utils/_validation.py:93: UserWarning: 'y' should be of types ('binary', 'multiclass', 'multilabel-indicator') only. Got continuous instead.\n",
            "  TARGET_KIND, type_of_target(y)))\n",
            "/usr/local/lib/python3.7/dist-packages/sklearn/utils/validation.py:760: DataConversionWarning: A column-vector y was passed when a 1d array was expected. Please change the shape of y to (n_samples, ), for example using ravel().\n",
            "  y = column_or_1d(y, warn=True)\n",
            "/usr/local/lib/python3.7/dist-packages/sklearn/utils/deprecation.py:87: FutureWarning: Function safe_indexing is deprecated; safe_indexing is deprecated in version 0.22 and will be removed in version 0.24.\n",
            "  warnings.warn(msg, category=FutureWarning)\n"
          ],
          "name": "stderr"
        },
        {
          "output_type": "execute_result",
          "data": {
            "text/plain": [
              "6.0    25\n",
              "5.5    25\n",
              "5.0    25\n",
              "4.5    25\n",
              "4.0    25\n",
              "3.5    25\n",
              "3.0    25\n",
              "2.5    25\n",
              "2.0    25\n",
              "dtype: int64"
            ]
          },
          "metadata": {
            "tags": []
          },
          "execution_count": 381
        }
      ]
    },
    {
      "cell_type": "code",
      "metadata": {
        "colab": {
          "base_uri": "https://localhost:8080/",
          "height": 419
        },
        "id": "e9xuVGfZIKz5",
        "outputId": "6785c128-dd60-4635-f91e-3fb4998021ea"
      },
      "source": [
        "target"
      ],
      "execution_count": 382,
      "outputs": [
        {
          "output_type": "execute_result",
          "data": {
            "text/html": [
              "<div>\n",
              "<style scoped>\n",
              "    .dataframe tbody tr th:only-of-type {\n",
              "        vertical-align: middle;\n",
              "    }\n",
              "\n",
              "    .dataframe tbody tr th {\n",
              "        vertical-align: top;\n",
              "    }\n",
              "\n",
              "    .dataframe thead th {\n",
              "        text-align: right;\n",
              "    }\n",
              "</style>\n",
              "<table border=\"1\" class=\"dataframe\">\n",
              "  <thead>\n",
              "    <tr style=\"text-align: right;\">\n",
              "      <th></th>\n",
              "      <th>1.5</th>\n",
              "      <th>2.0</th>\n",
              "      <th>2.5</th>\n",
              "      <th>3.0</th>\n",
              "      <th>3.5</th>\n",
              "      <th>4.0</th>\n",
              "      <th>4.5</th>\n",
              "      <th>5.0</th>\n",
              "      <th>5.5</th>\n",
              "      <th>6.0</th>\n",
              "      <th>6.5</th>\n",
              "    </tr>\n",
              "  </thead>\n",
              "  <tbody>\n",
              "    <tr>\n",
              "      <th>0</th>\n",
              "      <td>1</td>\n",
              "      <td>0</td>\n",
              "      <td>0</td>\n",
              "      <td>0</td>\n",
              "      <td>0</td>\n",
              "      <td>0</td>\n",
              "      <td>0</td>\n",
              "      <td>0</td>\n",
              "      <td>0</td>\n",
              "      <td>0</td>\n",
              "      <td>0</td>\n",
              "    </tr>\n",
              "    <tr>\n",
              "      <th>1</th>\n",
              "      <td>0</td>\n",
              "      <td>1</td>\n",
              "      <td>0</td>\n",
              "      <td>0</td>\n",
              "      <td>0</td>\n",
              "      <td>0</td>\n",
              "      <td>0</td>\n",
              "      <td>0</td>\n",
              "      <td>0</td>\n",
              "      <td>0</td>\n",
              "      <td>0</td>\n",
              "    </tr>\n",
              "    <tr>\n",
              "      <th>2</th>\n",
              "      <td>0</td>\n",
              "      <td>1</td>\n",
              "      <td>0</td>\n",
              "      <td>0</td>\n",
              "      <td>0</td>\n",
              "      <td>0</td>\n",
              "      <td>0</td>\n",
              "      <td>0</td>\n",
              "      <td>0</td>\n",
              "      <td>0</td>\n",
              "      <td>0</td>\n",
              "    </tr>\n",
              "    <tr>\n",
              "      <th>3</th>\n",
              "      <td>0</td>\n",
              "      <td>1</td>\n",
              "      <td>0</td>\n",
              "      <td>0</td>\n",
              "      <td>0</td>\n",
              "      <td>0</td>\n",
              "      <td>0</td>\n",
              "      <td>0</td>\n",
              "      <td>0</td>\n",
              "      <td>0</td>\n",
              "      <td>0</td>\n",
              "    </tr>\n",
              "    <tr>\n",
              "      <th>4</th>\n",
              "      <td>0</td>\n",
              "      <td>1</td>\n",
              "      <td>0</td>\n",
              "      <td>0</td>\n",
              "      <td>0</td>\n",
              "      <td>0</td>\n",
              "      <td>0</td>\n",
              "      <td>0</td>\n",
              "      <td>0</td>\n",
              "      <td>0</td>\n",
              "      <td>0</td>\n",
              "    </tr>\n",
              "    <tr>\n",
              "      <th>...</th>\n",
              "      <td>...</td>\n",
              "      <td>...</td>\n",
              "      <td>...</td>\n",
              "      <td>...</td>\n",
              "      <td>...</td>\n",
              "      <td>...</td>\n",
              "      <td>...</td>\n",
              "      <td>...</td>\n",
              "      <td>...</td>\n",
              "      <td>...</td>\n",
              "      <td>...</td>\n",
              "    </tr>\n",
              "    <tr>\n",
              "      <th>337</th>\n",
              "      <td>0</td>\n",
              "      <td>0</td>\n",
              "      <td>0</td>\n",
              "      <td>0</td>\n",
              "      <td>0</td>\n",
              "      <td>0</td>\n",
              "      <td>0</td>\n",
              "      <td>0</td>\n",
              "      <td>0</td>\n",
              "      <td>0</td>\n",
              "      <td>1</td>\n",
              "    </tr>\n",
              "    <tr>\n",
              "      <th>338</th>\n",
              "      <td>0</td>\n",
              "      <td>0</td>\n",
              "      <td>0</td>\n",
              "      <td>0</td>\n",
              "      <td>0</td>\n",
              "      <td>0</td>\n",
              "      <td>0</td>\n",
              "      <td>0</td>\n",
              "      <td>0</td>\n",
              "      <td>0</td>\n",
              "      <td>1</td>\n",
              "    </tr>\n",
              "    <tr>\n",
              "      <th>339</th>\n",
              "      <td>0</td>\n",
              "      <td>0</td>\n",
              "      <td>0</td>\n",
              "      <td>0</td>\n",
              "      <td>0</td>\n",
              "      <td>0</td>\n",
              "      <td>0</td>\n",
              "      <td>0</td>\n",
              "      <td>0</td>\n",
              "      <td>0</td>\n",
              "      <td>1</td>\n",
              "    </tr>\n",
              "    <tr>\n",
              "      <th>340</th>\n",
              "      <td>0</td>\n",
              "      <td>0</td>\n",
              "      <td>0</td>\n",
              "      <td>0</td>\n",
              "      <td>0</td>\n",
              "      <td>0</td>\n",
              "      <td>0</td>\n",
              "      <td>0</td>\n",
              "      <td>0</td>\n",
              "      <td>0</td>\n",
              "      <td>1</td>\n",
              "    </tr>\n",
              "    <tr>\n",
              "      <th>341</th>\n",
              "      <td>0</td>\n",
              "      <td>0</td>\n",
              "      <td>0</td>\n",
              "      <td>0</td>\n",
              "      <td>0</td>\n",
              "      <td>0</td>\n",
              "      <td>0</td>\n",
              "      <td>0</td>\n",
              "      <td>0</td>\n",
              "      <td>0</td>\n",
              "      <td>1</td>\n",
              "    </tr>\n",
              "  </tbody>\n",
              "</table>\n",
              "<p>329 rows × 11 columns</p>\n",
              "</div>"
            ],
            "text/plain": [
              "     1.5  2.0  2.5  3.0  3.5  4.0  4.5  5.0  5.5  6.0  6.5\n",
              "0      1    0    0    0    0    0    0    0    0    0    0\n",
              "1      0    1    0    0    0    0    0    0    0    0    0\n",
              "2      0    1    0    0    0    0    0    0    0    0    0\n",
              "3      0    1    0    0    0    0    0    0    0    0    0\n",
              "4      0    1    0    0    0    0    0    0    0    0    0\n",
              "..   ...  ...  ...  ...  ...  ...  ...  ...  ...  ...  ...\n",
              "337    0    0    0    0    0    0    0    0    0    0    1\n",
              "338    0    0    0    0    0    0    0    0    0    0    1\n",
              "339    0    0    0    0    0    0    0    0    0    0    1\n",
              "340    0    0    0    0    0    0    0    0    0    0    1\n",
              "341    0    0    0    0    0    0    0    0    0    0    1\n",
              "\n",
              "[329 rows x 11 columns]"
            ]
          },
          "metadata": {
            "tags": []
          },
          "execution_count": 382
        }
      ]
    },
    {
      "cell_type": "code",
      "metadata": {
        "id": "IVkjAD96HqqE"
      },
      "source": [
        "X_train, X_test, y_train, y_test = train_test_split(x_smt, y_smt, test_size=0.33, random_state=42)"
      ],
      "execution_count": 383,
      "outputs": []
    },
    {
      "cell_type": "code",
      "metadata": {
        "id": "L4JkX36NdpGl"
      },
      "source": [
        "from sklearn.ensemble import RandomForestClassifier\n",
        "model = XGBClassifier()\n",
        "model.fit(X_train,np.array(y_train))\n",
        "y_pred = model.predict(X_test)"
      ],
      "execution_count": 384,
      "outputs": []
    },
    {
      "cell_type": "code",
      "metadata": {
        "colab": {
          "base_uri": "https://localhost:8080/"
        },
        "id": "A4_kGQpjJ-pX",
        "outputId": "e8b1a017-0cb4-4e7a-fac1-7fdcd0eca05e"
      },
      "source": [
        "y_pred,np.array(y_test)"
      ],
      "execution_count": 385,
      "outputs": [
        {
          "output_type": "execute_result",
          "data": {
            "text/plain": [
              "(array([2. , 5.5, 4. , 6. , 4.5, 6. , 5.5, 3. , 5.5, 5. , 2.5, 2. , 5.5,\n",
              "        2.5, 2.5, 3. , 5.5, 5. , 3.5, 5. , 3. , 2.5, 5. , 4.5, 3.5, 3. ,\n",
              "        5.5, 5. , 6. , 3.5, 4. , 3. , 2.5, 5.5, 6. , 4. , 5.5, 4. , 3.5,\n",
              "        4.5, 4.5, 6. , 4.5, 6. , 4.5, 5. , 2.5, 4. , 4. , 4. , 6. , 3. ,\n",
              "        3.5, 3.5, 4. , 6. , 2. , 4. , 5.5, 5.5, 2.5, 2.5, 2.5, 2. , 3.5,\n",
              "        2.5, 3. , 2. , 4.5, 3.5, 4.5, 4.5, 2.5, 4.5, 5.5]),\n",
              " array([2. , 5.5, 4. , 6. , 4.5, 6. , 5.5, 3. , 5.5, 5. , 2.5, 2. , 5.5,\n",
              "        2.5, 2.5, 3. , 5.5, 5. , 3.5, 5. , 3. , 2. , 5. , 4.5, 3.5, 3. ,\n",
              "        5.5, 5. , 6. , 3.5, 4. , 3. , 2. , 5.5, 6. , 4. , 5.5, 4. , 3.5,\n",
              "        4.5, 4.5, 6. , 4.5, 6. , 4.5, 5. , 2.5, 4. , 4. , 4. , 6. , 3. ,\n",
              "        3.5, 3.5, 4. , 2.5, 2. , 4. , 5.5, 5.5, 2. , 2.5, 2.5, 2. , 3.5,\n",
              "        2.5, 3. , 2. , 4.5, 3.5, 4.5, 4.5, 2.5, 4.5, 5.5]))"
            ]
          },
          "metadata": {
            "tags": []
          },
          "execution_count": 385
        }
      ]
    },
    {
      "cell_type": "code",
      "metadata": {
        "id": "v_Jcq0fUpQ9o"
      },
      "source": [
        "def nearest_5(arr):\n",
        "  temp_list = []\n",
        "  for number in arr:\n",
        "    temp_list.append(round(number * 2.0) / 2.0)\n",
        "  return temp_list"
      ],
      "execution_count": 386,
      "outputs": []
    },
    {
      "cell_type": "code",
      "metadata": {
        "id": "PcqqSOYa3T_t"
      },
      "source": [
        "def float_to_int(list_to_transform):\n",
        "  temp_list=[]\n",
        "  for x in list_to_transform:\n",
        "    if x == 1.5:\n",
        "      temp_list.append(1)\n",
        "    if x == 2.:\n",
        "      temp_list.append(2)\n",
        "    if x == 2.5:\n",
        "      temp_list.append(3)\n",
        "    if x == 3.:\n",
        "      temp_list.append(4)\n",
        "    if x == 3.5:\n",
        "      temp_list.append(5)\n",
        "    if x == 4.:\n",
        "      temp_list.append(6)\n",
        "    if x == 4.5:\n",
        "      temp_list.append(7)\n",
        "    if x == 5.:\n",
        "      temp_list.append(8)\n",
        "    if x == 5.5:\n",
        "      temp_list.append(9)\n",
        "    if x == 6.:\n",
        "      temp_list.append(10)\n",
        "    if x == 6.5:\n",
        "      temp_list.append(11)\n",
        "  return temp_list"
      ],
      "execution_count": 387,
      "outputs": []
    },
    {
      "cell_type": "code",
      "metadata": {
        "id": "cYLMPmQaJwp7"
      },
      "source": [
        "def show_acc(y_test,y_pred):\n",
        "  accuracy = accuracy_score(y_test,y_pred)\n",
        "  print('accuracy: ',accuracy)"
      ],
      "execution_count": 388,
      "outputs": []
    },
    {
      "cell_type": "code",
      "metadata": {
        "id": "0uB5GmWbkr7t"
      },
      "source": [
        "scalar = [2.0, 2.5, 3.0, 3.5, 4.0, 4.5, 5.0, 5.5,6.0]"
      ],
      "execution_count": 395,
      "outputs": []
    },
    {
      "cell_type": "code",
      "metadata": {
        "id": "xy8hpbrNsOKn"
      },
      "source": [
        "def show_cm(y_test,y_pred):\n",
        "  cm = confusion_matrix(y_pred,y_test)\n",
        "  df_cm = pd.DataFrame(cm,scalar,scalar)\n",
        "  plt.figure(figsize=(10,7))\n",
        "  sns.set(font_scale=0.8) # for label size\n",
        "  sns.heatmap(df_cm, cmap=\"Blues\", annot=True, annot_kws={\"size\": 8}) # font size\n",
        "  plt.show()"
      ],
      "execution_count": 396,
      "outputs": []
    },
    {
      "cell_type": "code",
      "metadata": {
        "colab": {
          "base_uri": "https://localhost:8080/",
          "height": 447
        },
        "id": "RWPLUXByK5iH",
        "outputId": "e3f2cd77-09ed-4421-8224-f235e6c085ea"
      },
      "source": [
        "show_acc(float_to_int(y_pred),np.array(float_to_int(np.array(y_test))))\n",
        "show_cm(float_to_int(y_pred),np.array(float_to_int(np.array(y_test))))"
      ],
      "execution_count": 397,
      "outputs": [
        {
          "output_type": "stream",
          "text": [
            "accuracy:  0.9466666666666667\n"
          ],
          "name": "stdout"
        },
        {
          "output_type": "display_data",
          "data": {
            "image/png": "[encoded data removed]",
            "text/plain": [
              "<Figure size 720x504 with 2 Axes>"
            ]
          },
          "metadata": {
            "tags": []
          }
        }
      ]
    }
  ]
}